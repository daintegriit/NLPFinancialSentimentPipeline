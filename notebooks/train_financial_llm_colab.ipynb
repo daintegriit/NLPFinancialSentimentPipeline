{
 "cells": [
  {
   "cell_type": "markdown",
   "id": "6a0a40eb",
   "metadata": {},
   "source": [
    "Cell 1: Install dependencies"
   ]
  },
  {
   "cell_type": "code",
   "execution_count": null,
   "id": "4f009736",
   "metadata": {
    "vscode": {
     "languageId": "plaintext"
    }
   },
   "outputs": [],
   "source": [
    "!pip install -q transformers accelerate peft datasets trl bitsandbytes"
   ]
  },
  {
   "cell_type": "markdown",
   "id": "c3e2d696",
   "metadata": {},
   "source": [
    "Cell 2: Import packages"
   ]
  },
  {
   "cell_type": "code",
   "execution_count": null,
   "id": "ddb5cdc1",
   "metadata": {
    "vscode": {
     "languageId": "plaintext"
    }
   },
   "outputs": [],
   "source": [
    "from transformers import AutoTokenizer, AutoModelForCausalLM, TrainingArguments\n",
    "from peft import LoraConfig, get_peft_model, prepare_model_for_kbit_training\n",
    "from trl import SFTTrainer\n",
    "from datasets import load_dataset\n",
    "import torch\n"
   ]
  },
  {
   "cell_type": "markdown",
   "id": "ff63c816",
   "metadata": {},
   "source": [
    "Cell 3: Load Mistral-7B base model + tokenizer"
   ]
  },
  {
   "cell_type": "code",
   "execution_count": null,
   "id": "3460c8ec",
   "metadata": {
    "vscode": {
     "languageId": "plaintext"
    }
   },
   "outputs": [],
   "source": [
    "base_model = \"mistralai/Mistral-7B-v0.1\"\n",
    "\n",
    "tokenizer = AutoTokenizer.from_pretrained(base_model, use_fast=True)\n",
    "model = AutoModelForCausalLM.from_pretrained(\n",
    "    base_model,\n",
    "    load_in_4bit=True,\n",
    "    device_map=\"auto\"\n",
    ")\n",
    "model = prepare_model_for_kbit_training(model)\n"
   ]
  },
  {
   "cell_type": "markdown",
   "id": "205eb8ac",
   "metadata": {},
   "source": [
    "Cell 4: Apply LoRA adapter"
   ]
  },
  {
   "cell_type": "code",
   "execution_count": null,
   "id": "c27a30ea",
   "metadata": {
    "vscode": {
     "languageId": "plaintext"
    }
   },
   "outputs": [],
   "source": [
    "config = LoraConfig(\n",
    "    r=16,\n",
    "    lora_alpha=32,\n",
    "    target_modules=[\"q_proj\", \"v_proj\"],\n",
    "    lora_dropout=0.05,\n",
    "    bias=\"none\",\n",
    "    task_type=\"CAUSAL_LM\"\n",
    ")\n",
    "\n",
    "model = get_peft_model(model, config)\n"
   ]
  },
  {
   "cell_type": "markdown",
   "id": "ab6d3dd8",
   "metadata": {},
   "source": [
    "Cell 5: Load your dataset (generated)"
   ]
  },
  {
   "cell_type": "code",
   "execution_count": null,
   "id": "337ff4b4",
   "metadata": {
    "vscode": {
     "languageId": "plaintext"
    }
   },
   "outputs": [],
   "source": [
    "# Upload your auto-generated file here\n",
    "dataset = load_dataset(\"json\", data_files=\"fin_llm_instruct.jsonl\")\n"
   ]
  },
  {
   "cell_type": "markdown",
   "id": "8310d44a",
   "metadata": {},
   "source": [
    "Cell 6: Format for Chat-style tuning"
   ]
  },
  {
   "cell_type": "code",
   "execution_count": null,
   "id": "b2653255",
   "metadata": {
    "vscode": {
     "languageId": "plaintext"
    }
   },
   "outputs": [],
   "source": [
    "def format_instruction(example):\n",
    "    return {\n",
    "        \"input_ids\": tokenizer(\n",
    "            f\"### Instruction:\\n{example['instruction']}\\n\\n### Response:\\n{example['response']}\",\n",
    "            truncation=True, padding=\"max_length\", max_length=512, return_tensors=\"pt\"\n",
    "        )[\"input_ids\"].squeeze()\n",
    "    }\n",
    "\n",
    "tokenized_dataset = dataset[\"train\"].map(format_instruction)\n"
   ]
  },
  {
   "cell_type": "markdown",
   "id": "c278f94f",
   "metadata": {},
   "source": [
    "Cell 7: Set training args + start training"
   ]
  },
  {
   "cell_type": "code",
   "execution_count": null,
   "id": "47aadd9a",
   "metadata": {
    "vscode": {
     "languageId": "plaintext"
    }
   },
   "outputs": [],
   "source": [
    "training_args = TrainingArguments(\n",
    "    output_dir=\"fin-llm-mistral\",\n",
    "    per_device_train_batch_size=2,\n",
    "    gradient_accumulation_steps=4,\n",
    "    num_train_epochs=3,\n",
    "    learning_rate=2e-4,\n",
    "    logging_dir=\"./logs\",\n",
    "    save_strategy=\"epoch\"\n",
    ")\n",
    "\n",
    "trainer = SFTTrainer(\n",
    "    model=model,\n",
    "    train_dataset=tokenized_dataset,\n",
    "    args=training_args,\n",
    "    tokenizer=tokenizer,\n",
    "    max_seq_length=512\n",
    ")\n",
    "\n",
    "trainer.train()\n"
   ]
  },
  {
   "cell_type": "markdown",
   "id": "e84a6f36",
   "metadata": {},
   "source": [
    "Cell 8: Save fine-tuned model"
   ]
  },
  {
   "cell_type": "code",
   "execution_count": null,
   "id": "925087e6",
   "metadata": {
    "vscode": {
     "languageId": "plaintext"
    }
   },
   "outputs": [],
   "source": [
    "model.save_pretrained(\"fin_llm_mistral_lora\")\n",
    "tokenizer.save_pretrained(\"fin_llm_mistral_lora\")\n"
   ]
  }
 ],
 "metadata": {
  "language_info": {
   "name": "python"
  }
 },
 "nbformat": 4,
 "nbformat_minor": 5
}
