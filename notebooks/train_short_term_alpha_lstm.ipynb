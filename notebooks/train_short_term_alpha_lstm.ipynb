{
 "cells": [
  {
   "cell_type": "markdown",
   "id": "8daaa4b8",
   "metadata": {},
   "source": [
    "Cell 1: Install dependencies"
   ]
  },
  {
   "cell_type": "code",
   "execution_count": null,
   "id": "d97fff62",
   "metadata": {
    "vscode": {
     "languageId": "plaintext"
    }
   },
   "outputs": [],
   "source": [
    "!pip install pandas scikit-learn matplotlib torch"
   ]
  },
  {
   "cell_type": "markdown",
   "id": "8e71b173",
   "metadata": {},
   "source": [
    "Cell 2: Load and prep data"
   ]
  },
  {
   "cell_type": "code",
   "execution_count": null,
   "id": "0619b117",
   "metadata": {
    "vscode": {
     "languageId": "plaintext"
    }
   },
   "outputs": [],
   "source": [
    "import pandas as pd\n",
    "\n",
    "df = pd.read_csv('/content/merged_sentiment_price.csv')\n",
    "df['date'] = pd.to_datetime(df['date'])\n",
    "df = df.sort_values('date')\n",
    "\n",
    "# Label: 1 if next close > current\n",
    "df['next_close'] = df['close'].shift(-1)\n",
    "df['target'] = (df['next_close'] > df['close']).astype(int)\n",
    "\n",
    "# Features\n",
    "df['price_change'] = df['close'].pct_change()\n",
    "df['sentiment_rolling_mean'] = df['sentiment'].rolling(window=3).mean()\n",
    "df['day_of_week'] = df['date'].dt.dayofweek\n",
    "df = df.dropna().reset_index(drop=True)\n",
    "\n",
    "feature_cols = ['sentiment', 'sentiment_rolling_mean', 'price_change', 'day_of_week']\n"
   ]
  },
  {
   "cell_type": "markdown",
   "id": "7bbb7cad",
   "metadata": {},
   "source": [
    "Cell 3: Create sequences for LSTM"
   ]
  },
  {
   "cell_type": "code",
   "execution_count": null,
   "id": "d1de0eb3",
   "metadata": {
    "vscode": {
     "languageId": "plaintext"
    }
   },
   "outputs": [],
   "source": [
    "import numpy as np\n",
    "\n",
    "SEQ_LEN = 10  # Number of days in each sequence\n",
    "\n",
    "def create_sequences(data, labels, seq_len):\n",
    "    X, y = [], []\n",
    "    for i in range(len(data) - seq_len):\n",
    "        X.append(data[i:i+seq_len])\n",
    "        y.append(labels[i+seq_len])\n",
    "    return np.array(X), np.array(y)\n",
    "\n",
    "X_raw = df[feature_cols].values\n",
    "y_raw = df['target'].values\n",
    "\n",
    "X, y = create_sequences(X_raw, y_raw, SEQ_LEN)\n",
    "\n",
    "print(\"Shape:\", X.shape, y.shape)\n"
   ]
  },
  {
   "cell_type": "markdown",
   "id": "a7bb7a83",
   "metadata": {},
   "source": [
    "Cell 4: Train/test split and conversion to tensors"
   ]
  },
  {
   "cell_type": "code",
   "execution_count": null,
   "id": "e2219e18",
   "metadata": {
    "vscode": {
     "languageId": "plaintext"
    }
   },
   "outputs": [],
   "source": [
    "import torch\n",
    "from torch.utils.data import TensorDataset, DataLoader\n",
    "\n",
    "train_size = int(0.8 * len(X))\n",
    "X_train, X_test = X[:train_size], X[train_size:]\n",
    "y_train, y_test = y[:train_size], y[train_size:]\n",
    "\n",
    "X_train_tensor = torch.tensor(X_train, dtype=torch.float32)\n",
    "y_train_tensor = torch.tensor(y_train, dtype=torch.long)\n",
    "\n",
    "X_test_tensor = torch.tensor(X_test, dtype=torch.float32)\n",
    "y_test_tensor = torch.tensor(y_test, dtype=torch.long)\n",
    "\n",
    "train_ds = TensorDataset(X_train_tensor, y_train_tensor)\n",
    "test_ds = TensorDataset(X_test_tensor, y_test_tensor)\n",
    "\n",
    "train_loader = DataLoader(train_ds, batch_size=32, shuffle=True)\n",
    "test_loader = DataLoader(test_ds, batch_size=32)\n"
   ]
  },
  {
   "cell_type": "markdown",
   "id": "4f4e2e5a",
   "metadata": {},
   "source": [
    "Cell 5: Define the LSTM model"
   ]
  },
  {
   "cell_type": "code",
   "execution_count": null,
   "id": "c611b345",
   "metadata": {
    "vscode": {
     "languageId": "plaintext"
    }
   },
   "outputs": [],
   "source": [
    "import torch.nn as nn\n",
    "\n",
    "class LSTMModel(nn.Module):\n",
    "    def __init__(self, input_dim, hidden_dim, output_dim=2):\n",
    "        super(LSTMModel, self).__init__()\n",
    "        self.lstm = nn.LSTM(input_dim, hidden_dim, batch_first=True)\n",
    "        self.fc = nn.Linear(hidden_dim, output_dim)\n",
    "    \n",
    "    def forward(self, x):\n",
    "        _, (hn, _) = self.lstm(x)\n",
    "        out = self.fc(hn[-1])\n",
    "        return out\n",
    "\n",
    "model = LSTMModel(input_dim=len(feature_cols), hidden_dim=64)\n",
    "loss_fn = nn.CrossEntropyLoss()\n",
    "optimizer = torch.optim.Adam(model.parameters(), lr=0.001)\n"
   ]
  },
  {
   "cell_type": "markdown",
   "id": "35581f7b",
   "metadata": {},
   "source": [
    "Cell 6: Train the model"
   ]
  },
  {
   "cell_type": "code",
   "execution_count": null,
   "id": "366ddad6",
   "metadata": {
    "vscode": {
     "languageId": "plaintext"
    }
   },
   "outputs": [],
   "source": [
    "EPOCHS = 10\n",
    "for epoch in range(EPOCHS):\n",
    "    model.train()\n",
    "    for xb, yb in train_loader:\n",
    "        preds = model(xb)\n",
    "        loss = loss_fn(preds, yb)\n",
    "        optimizer.zero_grad()\n",
    "        loss.backward()\n",
    "        optimizer.step()\n",
    "    \n",
    "    print(f\"Epoch {epoch+1}/{EPOCHS} - Loss: {loss.item():.4f}\")\n"
   ]
  },
  {
   "cell_type": "markdown",
   "id": "27002344",
   "metadata": {},
   "source": [
    "Cell 7: Evaluate on test set"
   ]
  },
  {
   "cell_type": "code",
   "execution_count": null,
   "id": "87a788f9",
   "metadata": {
    "vscode": {
     "languageId": "plaintext"
    }
   },
   "outputs": [],
   "source": [
    "from sklearn.metrics import classification_report\n",
    "\n",
    "model.eval()\n",
    "all_preds = []\n",
    "all_targets = []\n",
    "\n",
    "with torch.no_grad():\n",
    "    for xb, yb in test_loader:\n",
    "        preds = model(xb)\n",
    "        pred_labels = preds.argmax(dim=1)\n",
    "        all_preds.extend(pred_labels.cpu().numpy())\n",
    "        all_targets.extend(yb.cpu().numpy())\n",
    "\n",
    "print(classification_report(all_targets, all_preds))\n"
   ]
  },
  {
   "cell_type": "markdown",
   "id": "0827174c",
   "metadata": {},
   "source": [
    "Cell 8: Save the trained model"
   ]
  },
  {
   "cell_type": "code",
   "execution_count": null,
   "id": "a43d0edb",
   "metadata": {
    "vscode": {
     "languageId": "plaintext"
    }
   },
   "outputs": [],
   "source": [
    "torch.save(model.state_dict(), \"lstm_model.pt\")\n",
    "print(\"✅ Model saved as lstm_model.pt\")\n"
   ]
  },
  {
   "cell_type": "markdown",
   "id": "ce82ae79",
   "metadata": {},
   "source": [
    "Cell 9: Download\n"
   ]
  },
  {
   "cell_type": "code",
   "execution_count": null,
   "id": "4cf47035",
   "metadata": {
    "vscode": {
     "languageId": "plaintext"
    }
   },
   "outputs": [],
   "source": [
    "from google.colab import files\n",
    "files.download(\"lstm_model.pt\")"
   ]
  }
 ],
 "metadata": {
  "language_info": {
   "name": "python"
  }
 },
 "nbformat": 4,
 "nbformat_minor": 5
}
