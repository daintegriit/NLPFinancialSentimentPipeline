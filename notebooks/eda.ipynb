{
 "cells": [
  {
   "cell_type": "markdown",
   "id": "55141088",
   "metadata": {},
   "source": [
    "📦 Cell 1: Install dependencies (skip if local)"
   ]
  },
  {
   "cell_type": "code",
   "execution_count": null,
   "id": "9a1ca233",
   "metadata": {
    "vscode": {
     "languageId": "plaintext"
    }
   },
   "outputs": [],
   "source": [
    "!pip install pandas matplotlib seaborn scikit-learn\n"
   ]
  },
  {
   "cell_type": "markdown",
   "id": "058d2030",
   "metadata": {},
   "source": [
    "📚 Cell 2: Import libraries"
   ]
  },
  {
   "cell_type": "code",
   "execution_count": null,
   "id": "d4af05c2",
   "metadata": {
    "vscode": {
     "languageId": "plaintext"
    }
   },
   "outputs": [],
   "source": [
    "import pandas as pd\n",
    "import numpy as np\n",
    "import seaborn as sns\n",
    "import matplotlib.pyplot as plt\n",
    "\n",
    "from sklearn.preprocessing import StandardScaler\n"
   ]
  },
  {
   "cell_type": "markdown",
   "id": "7feaaa72",
   "metadata": {},
   "source": [
    "📁 Cell 3: Load the dataset"
   ]
  },
  {
   "cell_type": "code",
   "execution_count": null,
   "id": "36ea10e3",
   "metadata": {
    "vscode": {
     "languageId": "plaintext"
    }
   },
   "outputs": [],
   "source": [
    "# Load the merged sentiment + stock price data\n",
    "df = pd.read_csv(\"../backend/outputs/results/merged_sentiment_price.csv\")\n",
    "\n",
    "# Show a preview\n",
    "df.head()\n"
   ]
  },
  {
   "cell_type": "markdown",
   "id": "d2273e20",
   "metadata": {},
   "source": [
    "🧹 Cell 4: Clean and preprocess"
   ]
  },
  {
   "cell_type": "code",
   "execution_count": null,
   "id": "65a689dc",
   "metadata": {
    "vscode": {
     "languageId": "plaintext"
    }
   },
   "outputs": [],
   "source": [
    "# Drop rows with missing essential data\n",
    "df = df.dropna(subset=[\"sentiment\", \"score\", \"NextDayReturn\"])\n",
    "\n",
    "# Map sentiment to numeric\n",
    "sentiment_map = {\"Positive\": 1, \"Neutral\": 0, \"Negative\": -1}\n",
    "df[\"SentimentEncoded\"] = df[\"sentiment\"].map(sentiment_map)\n",
    "\n",
    "# Quick overview\n",
    "df.describe()\n"
   ]
  },
  {
   "cell_type": "markdown",
   "id": "355eb396",
   "metadata": {},
   "source": [
    "📊 Cell 5: Plot sentiment distribution"
   ]
  },
  {
   "cell_type": "code",
   "execution_count": null,
   "id": "4d065290",
   "metadata": {
    "vscode": {
     "languageId": "plaintext"
    }
   },
   "outputs": [],
   "source": [
    "plt.figure(figsize=(6, 4))\n",
    "sns.countplot(x=\"sentiment\", data=df, palette=\"Set2\")\n",
    "plt.title(\"Sentiment Distribution\")\n",
    "plt.show()\n"
   ]
  },
  {
   "cell_type": "markdown",
   "id": "c1c7f9b4",
   "metadata": {},
   "source": [
    "📈 Cell 6: Correlation between sentiment score and stock return"
   ]
  },
  {
   "cell_type": "code",
   "execution_count": null,
   "id": "75f73b48",
   "metadata": {
    "vscode": {
     "languageId": "plaintext"
    }
   },
   "outputs": [],
   "source": [
    "plt.figure(figsize=(8, 5))\n",
    "sns.scatterplot(x=\"score\", y=\"NextDayReturn\", hue=\"sentiment\", data=df)\n",
    "plt.title(\"Sentiment Score vs. Next Day Return\")\n",
    "plt.axhline(0, color='gray', linestyle='--')\n",
    "plt.axvline(0, color='gray', linestyle='--')\n",
    "plt.show()\n"
   ]
  },
  {
   "cell_type": "markdown",
   "id": "81f2f474",
   "metadata": {},
   "source": [
    "📅 Cell 7: Sentiment over time"
   ]
  },
  {
   "cell_type": "code",
   "execution_count": null,
   "id": "47103786",
   "metadata": {
    "vscode": {
     "languageId": "plaintext"
    }
   },
   "outputs": [],
   "source": [
    "df[\"date\"] = pd.to_datetime(df[\"date\"])\n",
    "df.sort_values(\"date\", inplace=True)\n",
    "\n",
    "plt.figure(figsize=(10, 5))\n",
    "sns.lineplot(x=\"date\", y=\"score\", data=df, label=\"Sentiment Score\")\n",
    "sns.lineplot(x=\"date\", y=\"NextDayReturn\", data=df, label=\"Next Day Return\")\n",
    "plt.title(\"Sentiment Score and Return Over Time\")\n",
    "plt.legend()\n",
    "plt.show()\n"
   ]
  },
  {
   "cell_type": "markdown",
   "id": "f4148068",
   "metadata": {},
   "source": [
    "🧠 (Optional) Cell 8: Feature importance preview"
   ]
  },
  {
   "cell_type": "code",
   "execution_count": null,
   "id": "58ee7f30",
   "metadata": {
    "vscode": {
     "languageId": "plaintext"
    }
   },
   "outputs": [],
   "source": [
    "from sklearn.ensemble import RandomForestClassifier\n",
    "\n",
    "# Prepare input features and target\n",
    "X = df[[\"score\", \"SentimentEncoded\"]]\n",
    "y = (df[\"NextDayReturn\"] > 0).astype(int)\n",
    "\n",
    "model = RandomForestClassifier()\n",
    "model.fit(X, y)\n",
    "\n",
    "# Feature importances\n",
    "importance = model.feature_importances_\n",
    "sns.barplot(x=[\"score\", \"SentimentEncoded\"], y=importance)\n",
    "plt.title(\"Feature Importance\")\n",
    "plt.show()\n"
   ]
  }
 ],
 "metadata": {
  "language_info": {
   "name": "python"
  }
 },
 "nbformat": 4,
 "nbformat_minor": 5
}
