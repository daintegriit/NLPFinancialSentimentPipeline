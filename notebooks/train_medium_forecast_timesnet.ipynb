{
 "cells": [
  {
   "cell_type": "markdown",
   "id": "e71d9f1e",
   "metadata": {},
   "source": [
    "Cell 1: Install and import"
   ]
  },
  {
   "cell_type": "code",
   "execution_count": null,
   "id": "b4b6b331",
   "metadata": {
    "vscode": {
     "languageId": "plaintext"
    }
   },
   "outputs": [],
   "source": [
    "!pip install einops pandas scikit-learn matplotlib\n",
    "!pip install torch\n",
    "\n",
    "import torch\n",
    "import torch.nn as nn\n",
    "import pandas as pd\n",
    "import numpy as np\n",
    "from sklearn.preprocessing import StandardScaler\n",
    "import matplotlib.pyplot as plt\n",
    "from torch.utils.data import DataLoader, TensorDataset\n"
   ]
  },
  {
   "cell_type": "markdown",
   "id": "6091abf6",
   "metadata": {},
   "source": [
    "Cell 2: Load & process data"
   ]
  },
  {
   "cell_type": "code",
   "execution_count": null,
   "id": "9818b1b7",
   "metadata": {
    "vscode": {
     "languageId": "plaintext"
    }
   },
   "outputs": [],
   "source": [
    "df = pd.read_csv('/content/merged_sentiment_price.csv')\n",
    "df['date'] = pd.to_datetime(df['date'])\n",
    "df = df.sort_values('date')\n",
    "\n",
    "# Create multivariate input\n",
    "df['price_change'] = df['close'].pct_change()\n",
    "df['sentiment_smooth'] = df['sentiment'].rolling(3).mean()\n",
    "df = df.dropna().reset_index(drop=True)\n",
    "\n",
    "features = ['close', 'price_change', 'sentiment_smooth']\n",
    "scaler = StandardScaler()\n",
    "scaled = scaler.fit_transform(df[features])\n",
    "\n",
    "SEQ_LEN = 30\n",
    "PRED_LEN = 7\n",
    "\n",
    "def create_timeseries(data, seq_len, pred_len):\n",
    "    X, y = [], []\n",
    "    for i in range(len(data) - seq_len - pred_len):\n",
    "        X.append(data[i:i+seq_len])\n",
    "        y.append(data[i+seq_len:i+seq_len+pred_len, 0])  # forecast 'close'\n",
    "    return np.array(X), np.array(y)\n",
    "\n",
    "X, y = create_timeseries(scaled, SEQ_LEN, PRED_LEN)\n"
   ]
  },
  {
   "cell_type": "markdown",
   "id": "c50bc360",
   "metadata": {},
   "source": [
    "Cell 3: Split and load to DataLoader"
   ]
  },
  {
   "cell_type": "code",
   "execution_count": null,
   "id": "edaa9daf",
   "metadata": {
    "vscode": {
     "languageId": "plaintext"
    }
   },
   "outputs": [],
   "source": [
    "train_size = int(0.8 * len(X))\n",
    "X_train, y_train = X[:train_size], y[:train_size]\n",
    "X_test, y_test = X[train_size:], y[train_size:]\n",
    "\n",
    "train_ds = TensorDataset(torch.tensor(X_train, dtype=torch.float32),\n",
    "                         torch.tensor(y_train, dtype=torch.float32))\n",
    "test_ds = TensorDataset(torch.tensor(X_test, dtype=torch.float32),\n",
    "                        torch.tensor(y_test, dtype=torch.float32))\n",
    "\n",
    "train_loader = DataLoader(train_ds, batch_size=32, shuffle=True)\n",
    "test_loader = DataLoader(test_ds, batch_size=32)\n"
   ]
  },
  {
   "cell_type": "markdown",
   "id": "1d78f6c2",
   "metadata": {},
   "source": [
    "Cell 4: Define TimesNet-like model"
   ]
  },
  {
   "cell_type": "code",
   "execution_count": null,
   "id": "d8842eb5",
   "metadata": {
    "vscode": {
     "languageId": "plaintext"
    }
   },
   "outputs": [],
   "source": [
    "class TimesNet(nn.Module):\n",
    "    def __init__(self, input_size, seq_len, pred_len):\n",
    "        super().__init__()\n",
    "        self.encoder = nn.TransformerEncoder(\n",
    "            nn.TransformerEncoderLayer(d_model=input_size, nhead=2),\n",
    "            num_layers=2\n",
    "        )\n",
    "        self.flatten = nn.Flatten()\n",
    "        self.linear = nn.Linear(seq_len * input_size, pred_len)\n",
    "\n",
    "    def forward(self, x):\n",
    "        x = self.encoder(x)\n",
    "        x = self.flatten(x)\n",
    "        return self.linear(x)\n",
    "\n",
    "model = TimesNet(input_size=X.shape[2], seq_len=SEQ_LEN, pred_len=PRED_LEN)\n",
    "loss_fn = nn.MSELoss()\n",
    "optimizer = torch.optim.Adam(model.parameters(), lr=0.001)\n"
   ]
  },
  {
   "cell_type": "markdown",
   "id": "6c6bbc72",
   "metadata": {},
   "source": [
    "Cell 5: Train the model"
   ]
  },
  {
   "cell_type": "code",
   "execution_count": null,
   "id": "81240b3a",
   "metadata": {
    "vscode": {
     "languageId": "plaintext"
    }
   },
   "outputs": [],
   "source": [
    "EPOCHS = 10\n",
    "for epoch in range(EPOCHS):\n",
    "    model.train()\n",
    "    total_loss = 0\n",
    "    for xb, yb in train_loader:\n",
    "        preds = model(xb)\n",
    "        loss = loss_fn(preds, yb)\n",
    "        optimizer.zero_grad()\n",
    "        loss.backward()\n",
    "        optimizer.step()\n",
    "        total_loss += loss.item()\n",
    "    print(f\"Epoch {epoch+1} - Loss: {total_loss:.4f}\")\n"
   ]
  },
  {
   "cell_type": "markdown",
   "id": "c0e699f0",
   "metadata": {},
   "source": [
    "Cell 6: Forecast & plot"
   ]
  },
  {
   "cell_type": "code",
   "execution_count": null,
   "id": "93e8bb49",
   "metadata": {
    "vscode": {
     "languageId": "plaintext"
    }
   },
   "outputs": [],
   "source": [
    "model.eval()\n",
    "with torch.no_grad():\n",
    "    sample_input = torch.tensor(X_test[0:1], dtype=torch.float32)\n",
    "    prediction = model(sample_input).numpy()[0]\n",
    "\n",
    "true = y_test[0]\n",
    "plt.plot(range(PRED_LEN), true, label=\"Actual\")\n",
    "plt.plot(range(PRED_LEN), prediction, label=\"Predicted\")\n",
    "plt.legend()\n",
    "plt.title(\"7-day Forecast\")\n",
    "plt.show()\n"
   ]
  },
  {
   "cell_type": "markdown",
   "id": "4fbe311c",
   "metadata": {},
   "source": [
    "Cell 7: Save the model"
   ]
  },
  {
   "cell_type": "code",
   "execution_count": null,
   "id": "09eae4fa",
   "metadata": {
    "vscode": {
     "languageId": "plaintext"
    }
   },
   "outputs": [],
   "source": [
    "torch.save(model.state_dict(), \"timesnet_model.pt\")"
   ]
  },
  {
   "cell_type": "markdown",
   "id": "e9b719e5",
   "metadata": {},
   "source": [
    "Cell 8: Optional download"
   ]
  },
  {
   "cell_type": "code",
   "execution_count": null,
   "id": "461f7879",
   "metadata": {
    "vscode": {
     "languageId": "plaintext"
    }
   },
   "outputs": [],
   "source": [
    "from google.colab import files\n",
    "files.download(\"timesnet_model.pt\")\n"
   ]
  }
 ],
 "metadata": {
  "language_info": {
   "name": "python"
  }
 },
 "nbformat": 4,
 "nbformat_minor": 5
}
