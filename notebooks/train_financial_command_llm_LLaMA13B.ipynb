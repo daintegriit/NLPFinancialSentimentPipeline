{
 "cells": [
  {
   "cell_type": "markdown",
   "id": "812ad68d",
   "metadata": {},
   "source": [
    "Cell 1: Install Dependencies"
   ]
  },
  {
   "cell_type": "code",
   "execution_count": null,
   "id": "72d0cb1c",
   "metadata": {
    "vscode": {
     "languageId": "plaintext"
    }
   },
   "outputs": [],
   "source": [
    "!pip install -q transformers accelerate peft datasets trl bitsandbytes\n"
   ]
  },
  {
   "cell_type": "markdown",
   "id": "fe501c70",
   "metadata": {},
   "source": [
    "Cell 2: Import Packages"
   ]
  },
  {
   "cell_type": "code",
   "execution_count": null,
   "id": "ba711b5f",
   "metadata": {
    "vscode": {
     "languageId": "plaintext"
    }
   },
   "outputs": [],
   "source": [
    "from transformers import AutoTokenizer, AutoModelForCausalLM, TrainingArguments\n",
    "from peft import LoraConfig, get_peft_model, prepare_model_for_kbit_training\n",
    "from trl import SFTTrainer\n",
    "from datasets import load_dataset\n",
    "import torch\n"
   ]
  },
  {
   "cell_type": "markdown",
   "id": "c0f038df",
   "metadata": {},
   "source": [
    "Cell 3: Load LLaMA 13B base model + tokenizer"
   ]
  },
  {
   "cell_type": "code",
   "execution_count": null,
   "id": "8cf7cd0d",
   "metadata": {
    "vscode": {
     "languageId": "plaintext"
    }
   },
   "outputs": [],
   "source": [
    "base_model = \"meta-llama/Llama-2-13b-hf\"\n",
    "\n",
    "tokenizer = AutoTokenizer.from_pretrained(base_model, use_fast=True)\n",
    "model = AutoModelForCausalLM.from_pretrained(\n",
    "    base_model,\n",
    "    load_in_4bit=True,\n",
    "    device_map=\"auto\"\n",
    ")\n",
    "model = prepare_model_for_kbit_training(model)\n"
   ]
  },
  {
   "cell_type": "markdown",
   "id": "83eec4f5",
   "metadata": {},
   "source": [
    "Cell 4: Apply LoRA Adapter"
   ]
  },
  {
   "cell_type": "code",
   "execution_count": null,
   "id": "8032c01e",
   "metadata": {
    "vscode": {
     "languageId": "plaintext"
    }
   },
   "outputs": [],
   "source": [
    "config = LoraConfig(\n",
    "    r=16,\n",
    "    lora_alpha=32,\n",
    "    target_modules=[\"q_proj\", \"v_proj\"],\n",
    "    lora_dropout=0.05,\n",
    "    bias=\"none\",\n",
    "    task_type=\"CAUSAL_LM\"\n",
    ")\n",
    "\n",
    "model = get_peft_model(model, config)\n"
   ]
  },
  {
   "cell_type": "markdown",
   "id": "55909804",
   "metadata": {},
   "source": [
    "Cell 5: Load Your Dataset"
   ]
  },
  {
   "cell_type": "code",
   "execution_count": null,
   "id": "8a5b4cdf",
   "metadata": {
    "vscode": {
     "languageId": "plaintext"
    }
   },
   "outputs": [],
   "source": [
    "dataset = load_dataset(\"json\", data_files=\"data/fin_llm_instruct.jsonl\")\n"
   ]
  },
  {
   "cell_type": "markdown",
   "id": "5cd285fe",
   "metadata": {},
   "source": [
    "Cell 6: Format for Chat-style Instruction Tuning"
   ]
  },
  {
   "cell_type": "code",
   "execution_count": null,
   "id": "bd5a2d74",
   "metadata": {
    "vscode": {
     "languageId": "plaintext"
    }
   },
   "outputs": [],
   "source": [
    "def format_instruction(example):\n",
    "    return {\n",
    "        \"input_ids\": tokenizer(\n",
    "            f\"### Instruction:\\n{example['instruction']}\\n\\n### Response:\\n{example['response']}\",\n",
    "            truncation=True, padding=\"max_length\", max_length=512, return_tensors=\"pt\"\n",
    "        )[\"input_ids\"].squeeze()\n",
    "    }\n",
    "\n",
    "tokenized_dataset = dataset[\"train\"].map(format_instruction)\n"
   ]
  },
  {
   "cell_type": "markdown",
   "id": "29f6aac0",
   "metadata": {},
   "source": [
    "Cell 7: Set Training Arguments & Start Training"
   ]
  },
  {
   "cell_type": "code",
   "execution_count": null,
   "id": "8e89938b",
   "metadata": {
    "vscode": {
     "languageId": "plaintext"
    }
   },
   "outputs": [],
   "source": [
    "training_args = TrainingArguments(\n",
    "    output_dir=\"fin-llm-llama13b\",\n",
    "    per_device_train_batch_size=2,\n",
    "    gradient_accumulation_steps=4,\n",
    "    num_train_epochs=3,\n",
    "    learning_rate=2e-4,\n",
    "    logging_dir=\"./logs\",\n",
    "    save_strategy=\"epoch\"\n",
    ")\n",
    "\n",
    "trainer = SFTTrainer(\n",
    "    model=model,\n",
    "    train_dataset=tokenized_dataset,\n",
    "    args=training_args,\n",
    "    tokenizer=tokenizer,\n",
    "    max_seq_length=512\n",
    ")\n",
    "\n",
    "trainer.train()\n"
   ]
  },
  {
   "cell_type": "markdown",
   "id": "755a25ae",
   "metadata": {},
   "source": [
    "Cell 8: Save Fine-Tuned Model"
   ]
  },
  {
   "cell_type": "code",
   "execution_count": null,
   "id": "2b31c517",
   "metadata": {
    "vscode": {
     "languageId": "plaintext"
    }
   },
   "outputs": [],
   "source": [
    "model.save_pretrained(\"models/financial_llm_llama13b_lora\")\n",
    "tokenizer.save_pretrained(\"models/financial_llm_llama13b_lora\")\n"
   ]
  }
 ],
 "metadata": {
  "language_info": {
   "name": "python"
  }
 },
 "nbformat": 4,
 "nbformat_minor": 5
}
