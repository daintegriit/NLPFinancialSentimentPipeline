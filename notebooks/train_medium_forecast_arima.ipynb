{
 "cells": [
  {
   "cell_type": "markdown",
   "id": "c8494386",
   "metadata": {},
   "source": [
    "Cell 1: Install statsmodels"
   ]
  },
  {
   "cell_type": "code",
   "execution_count": null,
   "id": "3e5ef6b2",
   "metadata": {
    "vscode": {
     "languageId": "plaintext"
    }
   },
   "outputs": [],
   "source": [
    "!pip install statsmodels pandas matplotlib\n"
   ]
  },
  {
   "cell_type": "markdown",
   "id": "4d5f7ccc",
   "metadata": {},
   "source": [
    "Cell 2: Load and prepare data"
   ]
  },
  {
   "cell_type": "code",
   "execution_count": null,
   "id": "5a27ca9a",
   "metadata": {
    "vscode": {
     "languageId": "plaintext"
    }
   },
   "outputs": [],
   "source": [
    "import pandas as pd\n",
    "\n",
    "df = pd.read_csv('/content/merged_sentiment_price.csv')\n",
    "df['date'] = pd.to_datetime(df['date'])\n",
    "df = df.sort_values('date')\n",
    "\n",
    "# Use closing price only for ARIMA\n",
    "df_arima = df[['date', 'close']].set_index('date')\n",
    "df_arima = df_arima.asfreq('D').fillna(method='ffill')  # Fill missing days\n",
    "\n",
    "df_arima.head()\n"
   ]
  },
  {
   "cell_type": "markdown",
   "id": "76a11243",
   "metadata": {},
   "source": [
    "Cell 3: Fit ARIMA model"
   ]
  },
  {
   "cell_type": "code",
   "execution_count": null,
   "id": "3f08b86b",
   "metadata": {
    "vscode": {
     "languageId": "plaintext"
    }
   },
   "outputs": [],
   "source": [
    "from statsmodels.tsa.arima.model import ARIMA\n",
    "\n",
    "# Simple ARIMA model (can tune p, d, q)\n",
    "model = ARIMA(df_arima, order=(5, 1, 0))  # p=5, d=1, q=0\n",
    "model_fit = model.fit()\n",
    "\n",
    "print(model_fit.summary())\n"
   ]
  },
  {
   "cell_type": "markdown",
   "id": "45059687",
   "metadata": {},
   "source": [
    "Cell 4: Forecast the next 30 days"
   ]
  },
  {
   "cell_type": "code",
   "execution_count": null,
   "id": "5418fba1",
   "metadata": {
    "vscode": {
     "languageId": "plaintext"
    }
   },
   "outputs": [],
   "source": [
    "forecast = model_fit.forecast(steps=30)\n",
    "forecast.index = pd.date_range(start=df_arima.index[-1] + pd.Timedelta(days=1), periods=30)\n",
    "\n",
    "forecast_df = pd.DataFrame({\n",
    "    \"Forecast\": forecast\n",
    "})\n",
    "\n",
    "forecast_df.head()\n"
   ]
  },
  {
   "cell_type": "markdown",
   "id": "336fb9c9",
   "metadata": {},
   "source": [
    "Cell 5: Plot results"
   ]
  },
  {
   "cell_type": "code",
   "execution_count": null,
   "id": "a642b89d",
   "metadata": {
    "vscode": {
     "languageId": "plaintext"
    }
   },
   "outputs": [],
   "source": [
    "import matplotlib.pyplot as plt\n",
    "\n",
    "plt.figure(figsize=(10,5))\n",
    "plt.plot(df_arima[-100:], label='Historical')\n",
    "plt.plot(forecast_df, label='Forecast')\n",
    "plt.title(\"ARIMA Forecast - 30 Days\")\n",
    "plt.legend()\n",
    "plt.show()\n"
   ]
  },
  {
   "cell_type": "markdown",
   "id": "1024b4b3",
   "metadata": {},
   "source": [
    "Cell 6: Save model"
   ]
  },
  {
   "cell_type": "code",
   "execution_count": null,
   "id": "b2a75992",
   "metadata": {
    "vscode": {
     "languageId": "plaintext"
    }
   },
   "outputs": [],
   "source": [
    "import joblib\n",
    "joblib.dump(model_fit, \"arima_model.pkl\")\n"
   ]
  },
  {
   "cell_type": "markdown",
   "id": "cb0b3ebc",
   "metadata": {},
   "source": [
    " Cell 7: Download"
   ]
  },
  {
   "cell_type": "code",
   "execution_count": null,
   "id": "f02aecfb",
   "metadata": {
    "vscode": {
     "languageId": "plaintext"
    }
   },
   "outputs": [],
   "source": [
    "from google.colab import files\n",
    "files.download(\"arima_model.pkl\")\n"
   ]
  }
 ],
 "metadata": {
  "language_info": {
   "name": "python"
  }
 },
 "nbformat": 4,
 "nbformat_minor": 5
}
