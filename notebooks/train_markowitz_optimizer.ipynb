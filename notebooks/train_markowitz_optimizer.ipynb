{
 "cells": [
  {
   "cell_type": "markdown",
   "id": "15970d3f",
   "metadata": {},
   "source": [
    "Cell 1: Install and import"
   ]
  },
  {
   "cell_type": "code",
   "execution_count": null,
   "id": "9125da5a",
   "metadata": {
    "vscode": {
     "languageId": "plaintext"
    }
   },
   "outputs": [],
   "source": [
    "!pip install numpy pandas matplotlib yfinance scipy\n",
    "\n",
    "import numpy as np\n",
    "import pandas as pd\n",
    "import yfinance as yf\n",
    "import matplotlib.pyplot as plt\n",
    "from scipy.optimize import minimize\n"
   ]
  },
  {
   "cell_type": "markdown",
   "id": "07ce98b4",
   "metadata": {},
   "source": [
    "Cell 2: Download historical prices"
   ]
  },
  {
   "cell_type": "code",
   "execution_count": null,
   "id": "bfa30d1f",
   "metadata": {
    "vscode": {
     "languageId": "plaintext"
    }
   },
   "outputs": [],
   "source": [
    "tickers = ['AAPL', 'MSFT', 'GOOG', 'TSLA']\n",
    "data = yf.download(tickers, start=\"2022-01-01\", end=\"2023-12-31\")['Adj Close']\n",
    "data = data.dropna()\n",
    "\n",
    "returns = data.pct_change().dropna()\n",
    "mean_returns = returns.mean()\n",
    "cov_matrix = returns.cov()\n"
   ]
  },
  {
   "cell_type": "markdown",
   "id": "17285480",
   "metadata": {},
   "source": [
    "Cell 3: Define portfolio stats"
   ]
  },
  {
   "cell_type": "code",
   "execution_count": null,
   "id": "42c068ec",
   "metadata": {
    "vscode": {
     "languageId": "plaintext"
    }
   },
   "outputs": [],
   "source": [
    "def portfolio_performance(weights, mean_returns, cov_matrix):\n",
    "    returns = np.dot(weights, mean_returns)\n",
    "    std = np.sqrt(np.dot(weights.T, np.dot(cov_matrix, weights)))\n",
    "    return returns, std\n"
   ]
  },
  {
   "cell_type": "markdown",
   "id": "3d2d4d2c",
   "metadata": {},
   "source": [
    "Cell 4: Optimize for Max Sharpe"
   ]
  },
  {
   "cell_type": "code",
   "execution_count": null,
   "id": "aed281f1",
   "metadata": {
    "vscode": {
     "languageId": "plaintext"
    }
   },
   "outputs": [],
   "source": [
    "def negative_sharpe(weights, mean_returns, cov_matrix, risk_free_rate=0.01):\n",
    "    ret, std = portfolio_performance(weights, mean_returns, cov_matrix)\n",
    "    return -(ret - risk_free_rate) / std\n",
    "\n",
    "num_assets = len(tickers)\n",
    "bounds = tuple((0, 1) for asset in range(num_assets))\n",
    "constraints = ({'type': 'eq', 'fun': lambda x: np.sum(x) - 1})\n",
    "init_guess = num_assets * [1. / num_assets,]\n",
    "\n",
    "opt_result = minimize(negative_sharpe, init_guess,\n",
    "                      args=(mean_returns, cov_matrix),\n",
    "                      method='SLSQP',\n",
    "                      bounds=bounds,\n",
    "                      constraints=constraints)\n"
   ]
  },
  {
   "cell_type": "markdown",
   "id": "01350d79",
   "metadata": {},
   "source": [
    "Cell 5: Show Optimal Portfolio"
   ]
  },
  {
   "cell_type": "code",
   "execution_count": null,
   "id": "a173cd1e",
   "metadata": {
    "vscode": {
     "languageId": "plaintext"
    }
   },
   "outputs": [],
   "source": [
    "optimal_weights = opt_result.x\n",
    "for ticker, weight in zip(tickers, optimal_weights):\n",
    "    print(f\"{ticker}: {weight:.2%}\")\n",
    "\n",
    "ret, std = portfolio_performance(optimal_weights, mean_returns, cov_matrix)\n",
    "sharpe_ratio = (ret - 0.01) / std\n",
    "\n",
    "print(f\"\\nExpected Return: {ret:.2%}\")\n",
    "print(f\"Volatility: {std:.2%}\")\n",
    "print(f\"Sharpe Ratio: {sharpe_ratio:.2f}\")\n"
   ]
  },
  {
   "cell_type": "markdown",
   "id": "4d82d4b8",
   "metadata": {},
   "source": [
    "Cell 6: Plot Efficient Frontier"
   ]
  },
  {
   "cell_type": "code",
   "execution_count": null,
   "id": "3a99686b",
   "metadata": {
    "vscode": {
     "languageId": "plaintext"
    }
   },
   "outputs": [],
   "source": [
    "results = {'Returns': [], 'Volatility': [], 'Sharpe': []}\n",
    "weights_list = []\n",
    "\n",
    "for _ in range(5000):\n",
    "    w = np.random.dirichlet(np.ones(num_assets), size=1).flatten()\n",
    "    r, s = portfolio_performance(w, mean_returns, cov_matrix)\n",
    "    results['Returns'].append(r)\n",
    "    results['Volatility'].append(s)\n",
    "    results['Sharpe'].append((r - 0.01) / s)\n",
    "    weights_list.append(w)\n",
    "\n",
    "df = pd.DataFrame(results)\n",
    "plt.scatter(df['Volatility'], df['Returns'], c=df['Sharpe'], cmap='viridis', alpha=0.5)\n",
    "plt.scatter(std, ret, c='red', s=50, label='Optimal Portfolio')\n",
    "plt.colorbar(label='Sharpe Ratio')\n",
    "plt.xlabel(\"Volatility\")\n",
    "plt.ylabel(\"Expected Return\")\n",
    "plt.title(\"Efficient Frontier\")\n",
    "plt.legend()\n",
    "plt.show()\n"
   ]
  },
  {
   "cell_type": "markdown",
   "id": "b61382e4",
   "metadata": {},
   "source": [
    "Cell 7: Save Optimal Weights"
   ]
  },
  {
   "cell_type": "code",
   "execution_count": null,
   "id": "f595a731",
   "metadata": {
    "vscode": {
     "languageId": "plaintext"
    }
   },
   "outputs": [],
   "source": [
    "opt_df = pd.DataFrame({\n",
    "    'Ticker': tickers,\n",
    "    'Weight': optimal_weights\n",
    "})\n",
    "opt_df.to_csv(\"optimal_portfolio_weights.csv\", index=False)\n",
    "print(\"✅ Saved as optimal_portfolio_weights.csv\")\n"
   ]
  }
 ],
 "metadata": {
  "language_info": {
   "name": "python"
  }
 },
 "nbformat": 4,
 "nbformat_minor": 5
}
