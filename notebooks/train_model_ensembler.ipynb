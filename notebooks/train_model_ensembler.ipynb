{
 "cells": [
  {
   "cell_type": "markdown",
   "id": "d88461bc",
   "metadata": {},
   "source": [
    "Cell 1: Install dependencies"
   ]
  },
  {
   "cell_type": "code",
   "execution_count": null,
   "id": "1d8befc0",
   "metadata": {
    "vscode": {
     "languageId": "plaintext"
    }
   },
   "outputs": [],
   "source": [
    "!pip install pandas scikit-learn matplotlib joblib\n"
   ]
  },
  {
   "cell_type": "markdown",
   "id": "062e4d41",
   "metadata": {},
   "source": [
    "Cell 2: Load predictions from previous models"
   ]
  },
  {
   "cell_type": "code",
   "execution_count": null,
   "id": "9f7f8f61",
   "metadata": {
    "vscode": {
     "languageId": "plaintext"
    }
   },
   "outputs": [],
   "source": [
    "import pandas as pd\n",
    "\n",
    "# Example format: each file has columns ['date', 'pred']\n",
    "xgb = pd.read_csv('/content/xgb_preds.csv')\n",
    "lstm = pd.read_csv('/content/lstm_preds.csv')\n",
    "finbert = pd.read_csv('/content/finbert_preds.csv')\n",
    "\n",
    "# Merge on date\n",
    "df = xgb.merge(lstm, on='date', suffixes=('_xgb', '_lstm'))\n",
    "df = df.merge(finbert, on='date')\n",
    "df = df.rename(columns={'pred': 'pred_finbert'})\n",
    "\n",
    "df.head()\n"
   ]
  },
  {
   "cell_type": "markdown",
   "id": "c6815eab",
   "metadata": {},
   "source": [
    "Cell 3: Majority Voting Ensemble"
   ]
  },
  {
   "cell_type": "code",
   "execution_count": null,
   "id": "275ceff1",
   "metadata": {
    "vscode": {
     "languageId": "plaintext"
    }
   },
   "outputs": [],
   "source": [
    "import numpy as np\n",
    "\n",
    "# Round to binary labels\n",
    "df['voted'] = df[['pred_xgb', 'pred_lstm', 'pred_finbert']].round().mode(axis=1)[0]\n",
    "\n",
    "# Compare with true labels if available\n",
    "# df = df.merge(true_labels_df, on='date')\n",
    "# accuracy_score(df['true'], df['voted'])\n"
   ]
  },
  {
   "cell_type": "markdown",
   "id": "7ef2bb5b",
   "metadata": {},
   "source": [
    "Cell 4: Averaging Ensemble (Soft Voting)"
   ]
  },
  {
   "cell_type": "code",
   "execution_count": null,
   "id": "6efda7d9",
   "metadata": {
    "vscode": {
     "languageId": "plaintext"
    }
   },
   "outputs": [],
   "source": [
    "df['average'] = df[['pred_xgb', 'pred_lstm', 'pred_finbert']].mean(axis=1)\n",
    "df['average_label'] = (df['average'] > 0.5).astype(int)\n"
   ]
  },
  {
   "cell_type": "markdown",
   "id": "6213f2b6",
   "metadata": {},
   "source": [
    "Cell 5: Stacking Meta-Model"
   ]
  },
  {
   "cell_type": "code",
   "execution_count": null,
   "id": "f237c2ef",
   "metadata": {
    "vscode": {
     "languageId": "plaintext"
    }
   },
   "outputs": [],
   "source": [
    "from sklearn.linear_model import LogisticRegression\n",
    "from sklearn.metrics import classification_report\n",
    "from sklearn.model_selection import train_test_split\n",
    "\n",
    "X = df[['pred_xgb', 'pred_lstm', 'pred_finbert']]\n",
    "y = df['true']  # actual ground truth (add your own column here)\n",
    "\n",
    "X_train, X_test, y_train, y_test = train_test_split(X, y, test_size=0.3)\n",
    "\n",
    "stacker = LogisticRegression()\n",
    "stacker.fit(X_train, y_train)\n",
    "\n",
    "y_pred = stacker.predict(X_test)\n",
    "print(classification_report(y_test, y_pred))\n"
   ]
  },
  {
   "cell_type": "markdown",
   "id": "2b1db66d",
   "metadata": {},
   "source": [
    "Cell 6: Save ensemble model"
   ]
  },
  {
   "cell_type": "code",
   "execution_count": null,
   "id": "0b960bdb",
   "metadata": {
    "vscode": {
     "languageId": "plaintext"
    }
   },
   "outputs": [],
   "source": [
    "import joblib\n",
    "joblib.dump(stacker, \"ensemble_model.pkl\")\n",
    "print(\"✅ Saved ensemble model.\")\n"
   ]
  }
 ],
 "metadata": {
  "language_info": {
   "name": "python"
  }
 },
 "nbformat": 4,
 "nbformat_minor": 5
}
