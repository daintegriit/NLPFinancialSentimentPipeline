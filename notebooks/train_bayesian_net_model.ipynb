{
 "cells": [
  {
   "cell_type": "markdown",
   "id": "1ec41779",
   "metadata": {},
   "source": [
    "Cell 1: Install dependencies"
   ]
  },
  {
   "cell_type": "code",
   "execution_count": null,
   "id": "0766c077",
   "metadata": {
    "vscode": {
     "languageId": "plaintext"
    }
   },
   "outputs": [],
   "source": [
    "!pip install pandas scikit-learn joblib matplotlib\n"
   ]
  },
  {
   "cell_type": "markdown",
   "id": "6357c458",
   "metadata": {},
   "source": [
    "Cell 2: Load model predictions"
   ]
  },
  {
   "cell_type": "code",
   "execution_count": null,
   "id": "5d3b4bbb",
   "metadata": {
    "vscode": {
     "languageId": "plaintext"
    }
   },
   "outputs": [],
   "source": [
    "import pandas as pd\n",
    "\n",
    "# Load individual model outputs (0–1 probability or raw scores)\n",
    "xgb = pd.read_csv('/content/xgb_preds.csv')\n",
    "lstm = pd.read_csv('/content/lstm_preds.csv')\n",
    "finbert = pd.read_csv('/content/finbert_preds.csv')\n",
    "labels = pd.read_csv('/content/true_labels.csv')  # columns: ['date', 'true']\n",
    "\n",
    "# Merge everything\n",
    "df = xgb.merge(lstm, on='date', suffixes=('_xgb', '_lstm'))\n",
    "df = df.merge(finbert, on='date')\n",
    "df = df.rename(columns={'pred': 'pred_finbert'})\n",
    "df = df.merge(labels, on='date')\n"
   ]
  },
  {
   "cell_type": "markdown",
   "id": "3d01c5ee",
   "metadata": {},
   "source": [
    "Cell 3: Train Naive Bayes Classifier"
   ]
  },
  {
   "cell_type": "code",
   "execution_count": null,
   "id": "e803954b",
   "metadata": {
    "vscode": {
     "languageId": "plaintext"
    }
   },
   "outputs": [],
   "source": [
    "from sklearn.naive_bayes import GaussianNB\n",
    "from sklearn.model_selection import train_test_split\n",
    "from sklearn.metrics import classification_report\n",
    "\n",
    "X = df[['pred_xgb', 'pred_lstm', 'pred_finbert']]\n",
    "y = df['true']\n",
    "\n",
    "X_train, X_test, y_train, y_test = train_test_split(X, y, test_size=0.25)\n",
    "\n",
    "bayes_model = GaussianNB()\n",
    "bayes_model.fit(X_train, y_train)\n",
    "\n",
    "y_pred = bayes_model.predict(X_test)\n",
    "y_prob = bayes_model.predict_proba(X_test)\n",
    "\n",
    "print(classification_report(y_test, y_pred))\n"
   ]
  },
  {
   "cell_type": "markdown",
   "id": "0f2d71fa",
   "metadata": {},
   "source": [
    "Cell 4: Visualize confidence"
   ]
  },
  {
   "cell_type": "code",
   "execution_count": null,
   "id": "6a48b90a",
   "metadata": {
    "vscode": {
     "languageId": "plaintext"
    }
   },
   "outputs": [],
   "source": [
    "import matplotlib.pyplot as plt\n",
    "\n",
    "plt.hist(y_prob[:, 1], bins=20, alpha=0.7)\n",
    "plt.title(\"Bayesian Model Confidence (Class 1: UP)\")\n",
    "plt.xlabel(\"Confidence Score\")\n",
    "plt.ylabel(\"Frequency\")\n",
    "plt.grid(True)\n",
    "plt.show()\n"
   ]
  },
  {
   "cell_type": "markdown",
   "id": "3e01df90",
   "metadata": {},
   "source": [
    "Cell 5: Save model"
   ]
  },
  {
   "cell_type": "code",
   "execution_count": null,
   "id": "5b9a73a1",
   "metadata": {
    "vscode": {
     "languageId": "plaintext"
    }
   },
   "outputs": [],
   "source": [
    "import joblib\n",
    "joblib.dump(bayes_model, \"bayesian_net_model.pkl\")\n",
    "print(\"✅ Bayesian model saved.\")\n"
   ]
  },
  {
   "cell_type": "markdown",
   "id": "6a9df57a",
   "metadata": {},
   "source": []
  },
  {
   "cell_type": "code",
   "execution_count": null,
   "id": "673672c8",
   "metadata": {
    "vscode": {
     "languageId": "plaintext"
    }
   },
   "outputs": [],
   "source": []
  },
  {
   "cell_type": "markdown",
   "id": "c359cf1d",
   "metadata": {},
   "source": []
  },
  {
   "cell_type": "code",
   "execution_count": null,
   "id": "e6b09b0a",
   "metadata": {
    "vscode": {
     "languageId": "plaintext"
    }
   },
   "outputs": [],
   "source": []
  }
 ],
 "metadata": {
  "language_info": {
   "name": "python"
  }
 },
 "nbformat": 4,
 "nbformat_minor": 5
}
