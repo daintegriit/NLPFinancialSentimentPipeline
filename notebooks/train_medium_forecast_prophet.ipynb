{
 "cells": [
  {
   "cell_type": "markdown",
   "id": "5aedad7b",
   "metadata": {},
   "source": [
    "Cell 1: Install dependencies"
   ]
  },
  {
   "cell_type": "code",
   "execution_count": null,
   "id": "47383f32",
   "metadata": {
    "vscode": {
     "languageId": "plaintext"
    }
   },
   "outputs": [],
   "source": [
    "!pip install prophet pandas matplotlib\n"
   ]
  },
  {
   "cell_type": "markdown",
   "id": "8c9ed751",
   "metadata": {},
   "source": [
    "Cell 2: Load & format the data\n"
   ]
  },
  {
   "cell_type": "code",
   "execution_count": null,
   "id": "93dbfe26",
   "metadata": {
    "vscode": {
     "languageId": "plaintext"
    }
   },
   "outputs": [],
   "source": [
    "import pandas as pd\n",
    "\n",
    "df = pd.read_csv('/content/merged_sentiment_price.csv')\n",
    "df['date'] = pd.to_datetime(df['date'])\n",
    "df = df.sort_values('date')\n",
    "\n",
    "# Prophet expects 'ds' and 'y'\n",
    "df_prophet = df[['date', 'close']].rename(columns={'date': 'ds', 'close': 'y'})\n",
    "df_prophet = df_prophet.dropna().reset_index(drop=True)\n",
    "\n",
    "df_prophet.head()\n"
   ]
  },
  {
   "cell_type": "markdown",
   "id": "a8c0254d",
   "metadata": {},
   "source": [
    "Cell 3: Train Prophet model"
   ]
  },
  {
   "cell_type": "code",
   "execution_count": null,
   "id": "8c80819b",
   "metadata": {
    "vscode": {
     "languageId": "plaintext"
    }
   },
   "outputs": [],
   "source": [
    "from prophet import Prophet\n",
    "\n",
    "model = Prophet(\n",
    "    daily_seasonality=True,\n",
    "    weekly_seasonality=True,\n",
    "    yearly_seasonality=False,\n",
    "    changepoint_range=0.95\n",
    ")\n",
    "\n",
    "model.fit(df_prophet)\n"
   ]
  },
  {
   "cell_type": "markdown",
   "id": "4e575bdf",
   "metadata": {},
   "source": [
    "Cell 4: Make a 30-day forecast"
   ]
  },
  {
   "cell_type": "code",
   "execution_count": null,
   "id": "02e8b3a3",
   "metadata": {
    "vscode": {
     "languageId": "plaintext"
    }
   },
   "outputs": [],
   "source": [
    "future = model.make_future_dataframe(periods=30)\n",
    "forecast = model.predict(future)\n",
    "forecast[['ds', 'yhat', 'yhat_lower', 'yhat_upper']].tail(10)\n"
   ]
  },
  {
   "cell_type": "markdown",
   "id": "b193f212",
   "metadata": {},
   "source": [
    "Cell 5: Plot the forecast"
   ]
  },
  {
   "cell_type": "code",
   "execution_count": null,
   "id": "aab70453",
   "metadata": {
    "vscode": {
     "languageId": "plaintext"
    }
   },
   "outputs": [],
   "source": [
    "from prophet.plot import plot_plotly, plot_components_plotly\n",
    "\n",
    "plot_plotly(model, forecast)\n"
   ]
  },
  {
   "cell_type": "markdown",
   "id": "0439594c",
   "metadata": {},
   "source": [
    "Cell 6: Save model"
   ]
  },
  {
   "cell_type": "code",
   "execution_count": null,
   "id": "11bfb2ba",
   "metadata": {
    "vscode": {
     "languageId": "plaintext"
    }
   },
   "outputs": [],
   "source": [
    "import joblib\n",
    "joblib.dump(model, \"prophet_model.pkl\")\n"
   ]
  },
  {
   "cell_type": "markdown",
   "id": "e7a80b85",
   "metadata": {},
   "source": [
    "Cell 7: Download model"
   ]
  },
  {
   "cell_type": "code",
   "execution_count": null,
   "id": "8ab96579",
   "metadata": {
    "vscode": {
     "languageId": "plaintext"
    }
   },
   "outputs": [],
   "source": [
    "from google.colab import files\n",
    "files.download(\"prophet_model.pkl\")\n"
   ]
  }
 ],
 "metadata": {
  "language_info": {
   "name": "python"
  }
 },
 "nbformat": 4,
 "nbformat_minor": 5
}
