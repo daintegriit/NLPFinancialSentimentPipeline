{
 "cells": [
  {
   "cell_type": "markdown",
   "id": "ea4b96f4",
   "metadata": {},
   "source": [
    "Cell 1: Install dependencies"
   ]
  },
  {
   "cell_type": "code",
   "execution_count": null,
   "id": "53cf726f",
   "metadata": {
    "vscode": {
     "languageId": "plaintext"
    }
   },
   "outputs": [],
   "source": [
    "!pip install pandas scikit-learn xgboost matplotlib joblib\n"
   ]
  },
  {
   "cell_type": "markdown",
   "id": "4ed8a41f",
   "metadata": {},
   "source": [
    "Cell 2: Load the merged dataset"
   ]
  },
  {
   "cell_type": "code",
   "execution_count": null,
   "id": "3ecaa6b6",
   "metadata": {
    "vscode": {
     "languageId": "plaintext"
    }
   },
   "outputs": [],
   "source": [
    "import pandas as pd\n",
    "\n",
    "# Load your data\n",
    "df = pd.read_csv('/content/merged_sentiment_price.csv')\n",
    "df['date'] = pd.to_datetime(df['date'])\n",
    "df = df.sort_values('date')\n",
    "\n",
    "df.head()\n"
   ]
  },
  {
   "cell_type": "markdown",
   "id": "631bfb37",
   "metadata": {},
   "source": [
    "Cell 3: Feature engineering"
   ]
  },
  {
   "cell_type": "code",
   "execution_count": null,
   "id": "4d6fdee5",
   "metadata": {
    "vscode": {
     "languageId": "plaintext"
    }
   },
   "outputs": [],
   "source": [
    "# Binary target: 1 if next day price > today\n",
    "df['next_close'] = df['close'].shift(-1)\n",
    "df['target'] = (df['next_close'] > df['close']).astype(int)\n",
    "\n",
    "# Features\n",
    "df['price_change'] = df['close'].pct_change()\n",
    "df['sentiment_rolling_mean'] = df['sentiment'].rolling(window=3).mean()\n",
    "df['day_of_week'] = df['date'].dt.dayofweek\n",
    "df = df.dropna()\n",
    "\n",
    "# Define X and y\n",
    "feature_cols = ['sentiment', 'sentiment_rolling_mean', 'price_change', 'day_of_week']\n",
    "X = df[feature_cols]\n",
    "y = df['target']\n",
    "\n",
    "X.head()\n"
   ]
  },
  {
   "cell_type": "markdown",
   "id": "550dd825",
   "metadata": {},
   "source": [
    "Cell 4: Train/test split and model training"
   ]
  },
  {
   "cell_type": "code",
   "execution_count": null,
   "id": "b5712725",
   "metadata": {
    "vscode": {
     "languageId": "plaintext"
    }
   },
   "outputs": [],
   "source": [
    "from sklearn.model_selection import train_test_split\n",
    "from xgboost import XGBClassifier\n",
    "from sklearn.metrics import classification_report\n",
    "\n",
    "X_train, X_test, y_train, y_test = train_test_split(X, y, shuffle=False, test_size=0.2)\n",
    "\n",
    "model = XGBClassifier(use_label_encoder=False, eval_metric='logloss')\n",
    "model.fit(X_train, y_train)\n",
    "\n",
    "# Evaluate\n",
    "y_pred = model.predict(X_test)\n",
    "print(classification_report(y_test, y_pred))\n"
   ]
  },
  {
   "cell_type": "markdown",
   "id": "e7dbcf23",
   "metadata": {},
   "source": [
    "Cell 5: Save model as .pkl"
   ]
  },
  {
   "cell_type": "code",
   "execution_count": null,
   "id": "1e77cbbe",
   "metadata": {
    "vscode": {
     "languageId": "plaintext"
    }
   },
   "outputs": [],
   "source": [
    "import joblib\n",
    "\n",
    "joblib.dump(model, 'xgb_model.pkl')\n",
    "print(\"✅ Saved as xgb_model.pkl\")\n"
   ]
  },
  {
   "cell_type": "markdown",
   "id": "bcba3ba2",
   "metadata": {},
   "source": [
    "Cell 6: Download the model"
   ]
  },
  {
   "cell_type": "code",
   "execution_count": null,
   "id": "75a1a44b",
   "metadata": {
    "vscode": {
     "languageId": "plaintext"
    }
   },
   "outputs": [],
   "source": [
    "from google.colab import files\n",
    "files.download('xgb_model.pkl')\n"
   ]
  }
 ],
 "metadata": {
  "language_info": {
   "name": "python"
  }
 },
 "nbformat": 4,
 "nbformat_minor": 5
}
