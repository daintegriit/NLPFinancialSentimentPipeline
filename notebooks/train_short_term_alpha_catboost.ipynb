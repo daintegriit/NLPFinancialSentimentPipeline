{
 "cells": [
  {
   "cell_type": "markdown",
   "id": "35c54943",
   "metadata": {},
   "source": [
    "Cell 1: Install CatBoost"
   ]
  },
  {
   "cell_type": "code",
   "execution_count": null,
   "id": "b83f97fb",
   "metadata": {
    "vscode": {
     "languageId": "plaintext"
    }
   },
   "outputs": [],
   "source": [
    "!pip install catboost pandas scikit-learn joblib"
   ]
  },
  {
   "cell_type": "markdown",
   "id": "a79913bd",
   "metadata": {},
   "source": [
    "Cell 2: Load the dataset"
   ]
  },
  {
   "cell_type": "code",
   "execution_count": null,
   "id": "b01c3e68",
   "metadata": {
    "vscode": {
     "languageId": "plaintext"
    }
   },
   "outputs": [],
   "source": [
    "import pandas as pd\n",
    "\n",
    "df = pd.read_csv('/content/merged_sentiment_price.csv')\n",
    "df['date'] = pd.to_datetime(df['date'])\n",
    "df = df.sort_values('date')\n",
    "\n",
    "# Create label: next-day up/down\n",
    "df['next_close'] = df['close'].shift(-1)\n",
    "df['target'] = (df['next_close'] > df['close']).astype(int)\n",
    "\n",
    "# Add simulated categorical feature if none exist\n",
    "df['sector'] = 'Tech'  # Replace with real sector if available\n",
    "df['day_of_week'] = df['date'].dt.dayofweek\n",
    "\n",
    "# Drop NaNs\n",
    "df['price_change'] = df['close'].pct_change()\n",
    "df['sentiment_rolling_mean'] = df['sentiment'].rolling(3).mean()\n",
    "df = df.dropna().reset_index(drop=True)\n",
    "\n",
    "df.head()\n"
   ]
  },
  {
   "cell_type": "markdown",
   "id": "8740d206",
   "metadata": {},
   "source": [
    "Cell 3: Prepare features and labels"
   ]
  },
  {
   "cell_type": "code",
   "execution_count": null,
   "id": "46152a6a",
   "metadata": {
    "vscode": {
     "languageId": "plaintext"
    }
   },
   "outputs": [],
   "source": [
    "feature_cols = ['sentiment', 'sentiment_rolling_mean', 'price_change', 'day_of_week', 'sector']\n",
    "categorical_features = ['day_of_week', 'sector']  # Categorical columns\n",
    "\n",
    "X = df[feature_cols]\n",
    "y = df['target']\n"
   ]
  },
  {
   "cell_type": "markdown",
   "id": "ceb3445a",
   "metadata": {},
   "source": [
    "Cell 4: Train/Test Split"
   ]
  },
  {
   "cell_type": "code",
   "execution_count": null,
   "id": "c033b5a1",
   "metadata": {
    "vscode": {
     "languageId": "plaintext"
    }
   },
   "outputs": [],
   "source": [
    "from sklearn.model_selection import train_test_split\n",
    "\n",
    "X_train, X_test, y_train, y_test = train_test_split(X, y, shuffle=False, test_size=0.2)\n",
    "\n",
    "print(\"Train size:\", len(X_train), \"Test size:\", len(X_test))\n"
   ]
  },
  {
   "cell_type": "markdown",
   "id": "03458409",
   "metadata": {},
   "source": [
    "Cell 5: Train CatBoost Model"
   ]
  },
  {
   "cell_type": "code",
   "execution_count": null,
   "id": "97adc379",
   "metadata": {
    "vscode": {
     "languageId": "plaintext"
    }
   },
   "outputs": [],
   "source": [
    "from catboost import CatBoostClassifier\n",
    "\n",
    "model = CatBoostClassifier(\n",
    "    iterations=200,\n",
    "    depth=6,\n",
    "    learning_rate=0.05,\n",
    "    loss_function='Logloss',\n",
    "    cat_features=categorical_features,\n",
    "    verbose=50\n",
    ")\n",
    "\n",
    "model.fit(X_train, y_train, eval_set=(X_test, y_test))\n"
   ]
  },
  {
   "cell_type": "markdown",
   "id": "7aa1dda0",
   "metadata": {},
   "source": [
    "Cell 6: Evaluate"
   ]
  },
  {
   "cell_type": "code",
   "execution_count": null,
   "id": "16a58147",
   "metadata": {
    "vscode": {
     "languageId": "plaintext"
    }
   },
   "outputs": [],
   "source": [
    "from sklearn.metrics import classification_report\n",
    "\n",
    "y_pred = model.predict(X_test)\n",
    "print(classification_report(y_test, y_pred))\n"
   ]
  },
  {
   "cell_type": "markdown",
   "id": "ea69c6ce",
   "metadata": {},
   "source": [
    "Cell 7: Save the model"
   ]
  },
  {
   "cell_type": "code",
   "execution_count": null,
   "id": "f27fba69",
   "metadata": {
    "vscode": {
     "languageId": "plaintext"
    }
   },
   "outputs": [],
   "source": [
    "import joblib\n",
    "\n",
    "joblib.dump(model, 'catboost_model.pkl')\n",
    "print(\"✅ Model saved as catboost_model.pkl\")\n"
   ]
  },
  {
   "cell_type": "markdown",
   "id": "ec72ab92",
   "metadata": {},
   "source": [
    "Cell 8: Download for Local Use"
   ]
  },
  {
   "cell_type": "code",
   "execution_count": null,
   "id": "a166f85e",
   "metadata": {
    "vscode": {
     "languageId": "plaintext"
    }
   },
   "outputs": [],
   "source": [
    "from google.colab import files\n",
    "files.download(\"catboost_model.pkl\")\n"
   ]
  }
 ],
 "metadata": {
  "language_info": {
   "name": "python"
  }
 },
 "nbformat": 4,
 "nbformat_minor": 5
}
