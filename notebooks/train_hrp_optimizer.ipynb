{
 "cells": [
  {
   "cell_type": "markdown",
   "id": "ac31da67",
   "metadata": {},
   "source": [
    "Cell 1: Install and import dependencies"
   ]
  },
  {
   "cell_type": "code",
   "execution_count": null,
   "id": "6c25dda5",
   "metadata": {
    "vscode": {
     "languageId": "plaintext"
    }
   },
   "outputs": [],
   "source": [
    "!pip install yfinance numpy pandas matplotlib scipy seaborn\n",
    "\n",
    "import yfinance as yf\n",
    "import pandas as pd\n",
    "import numpy as np\n",
    "import matplotlib.pyplot as plt\n",
    "import seaborn as sns\n",
    "from scipy.cluster.hierarchy import linkage, dendrogram\n"
   ]
  },
  {
   "cell_type": "markdown",
   "id": "9864f228",
   "metadata": {},
   "source": [
    "Cell 2: Download historical price data"
   ]
  },
  {
   "cell_type": "code",
   "execution_count": null,
   "id": "f7bb6700",
   "metadata": {
    "vscode": {
     "languageId": "plaintext"
    }
   },
   "outputs": [],
   "source": [
    "tickers = ['AAPL', 'MSFT', 'GOOG', 'TSLA', 'NVDA']\n",
    "data = yf.download(tickers, start='2022-01-01', end='2023-12-31')['Adj Close']\n",
    "returns = data.pct_change().dropna()\n"
   ]
  },
  {
   "cell_type": "markdown",
   "id": "1b63af26",
   "metadata": {},
   "source": [
    "Cell 3: Compute correlation and distance matrix"
   ]
  },
  {
   "cell_type": "code",
   "execution_count": null,
   "id": "5f4f44c8",
   "metadata": {
    "vscode": {
     "languageId": "plaintext"
    }
   },
   "outputs": [],
   "source": [
    "corr = returns.corr()\n",
    "dist = np.sqrt(0.5 * (1 - corr))  # Distance metric for clustering\n",
    "\n",
    "sns.heatmap(corr, annot=True, cmap='coolwarm')\n",
    "plt.title(\"Asset Correlation Matrix\")\n",
    "plt.show()\n"
   ]
  },
  {
   "cell_type": "markdown",
   "id": "8ae01f03",
   "metadata": {},
   "source": [
    "Cell 4: Build linkage matrix and plot dendrogram"
   ]
  },
  {
   "cell_type": "code",
   "execution_count": null,
   "id": "b4d6db16",
   "metadata": {
    "vscode": {
     "languageId": "plaintext"
    }
   },
   "outputs": [],
   "source": [
    "link = linkage(dist, method='single')\n",
    "\n",
    "plt.figure(figsize=(10, 5))\n",
    "dendrogram(link, labels=returns.columns.tolist())\n",
    "plt.title(\"Hierarchical Clustering Dendrogram\")\n",
    "plt.show()\n"
   ]
  },
  {
   "cell_type": "markdown",
   "id": "824e55bd",
   "metadata": {},
   "source": [
    "Cell 5: Implement HRP Weighting Logic"
   ]
  },
  {
   "cell_type": "code",
   "execution_count": null,
   "id": "b562409b",
   "metadata": {
    "vscode": {
     "languageId": "plaintext"
    }
   },
   "outputs": [],
   "source": [
    "def get_cluster_var(cov, cluster_items):\n",
    "    cov_ = cov.loc[cluster_items, cluster_items]\n",
    "    w = 1. / np.diag(cov_)\n",
    "    w /= w.sum()\n",
    "    return np.dot(np.dot(w, cov_), w.T)\n",
    "\n",
    "def recursive_bisection(cov, items):\n",
    "    if len(items) == 1:\n",
    "        return {items[0]: 1.0}\n",
    "    else:\n",
    "        split = len(items) // 2\n",
    "        left = items[:split]\n",
    "        right = items[split:]\n",
    "        var_left = get_cluster_var(cov, left)\n",
    "        var_right = get_cluster_var(cov, right)\n",
    "        alpha = 1 - var_left / (var_left + var_right)\n",
    "        weights_left = recursive_bisection(cov, left)\n",
    "        weights_right = recursive_bisection(cov, right)\n",
    "        weights = {**{k: v * alpha for k, v in weights_left.items()},\n",
    "                   **{k: v * (1 - alpha) for k, v in weights_right.items()}}\n",
    "        return weights\n"
   ]
  },
  {
   "cell_type": "markdown",
   "id": "716869c6",
   "metadata": {},
   "source": [
    "Cell 6: Sort assets by cluster and compute weights"
   ]
  },
  {
   "cell_type": "code",
   "execution_count": null,
   "id": "be4bdde3",
   "metadata": {
    "vscode": {
     "languageId": "plaintext"
    }
   },
   "outputs": [],
   "source": [
    "from scipy.cluster.hierarchy import leaves_list\n",
    "\n",
    "ordered_indices = leaves_list(link)\n",
    "ordered_tickers = corr.columns[ordered_indices].tolist()\n",
    "cov = returns.cov()\n",
    "weights = recursive_bisection(cov, ordered_tickers)\n",
    "\n",
    "# Normalize weights to 1\n",
    "total_weight = sum(weights.values())\n",
    "normalized_weights = {k: v / total_weight for k, v in weights.items()}\n"
   ]
  },
  {
   "cell_type": "markdown",
   "id": "a1b64c69",
   "metadata": {},
   "source": [
    "Cell 7: Display and save results"
   ]
  },
  {
   "cell_type": "code",
   "execution_count": null,
   "id": "ff58d363",
   "metadata": {
    "vscode": {
     "languageId": "plaintext"
    }
   },
   "outputs": [],
   "source": [
    "df_weights = pd.DataFrame.from_dict(normalized_weights, orient='index', columns=['Weight'])\n",
    "df_weights = df_weights.sort_values(by='Weight', ascending=False)\n",
    "\n",
    "print(df_weights)\n",
    "df_weights.to_csv(\"hrp_weights.csv\")\n",
    "print(\"✅ HRP weights saved.\")\n"
   ]
  }
 ],
 "metadata": {
  "language_info": {
   "name": "python"
  }
 },
 "nbformat": 4,
 "nbformat_minor": 5
}
