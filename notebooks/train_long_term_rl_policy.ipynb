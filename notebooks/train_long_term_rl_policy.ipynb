{
 "cells": [
  {
   "cell_type": "markdown",
   "id": "06c97f60",
   "metadata": {},
   "source": [
    "Cell 1: Install dependencies"
   ]
  },
  {
   "cell_type": "code",
   "execution_count": null,
   "id": "dbe06d5b",
   "metadata": {
    "vscode": {
     "languageId": "plaintext"
    }
   },
   "outputs": [],
   "source": [
    "!pip install stable-baselines3 pandas gym matplotlib\n"
   ]
  },
  {
   "cell_type": "markdown",
   "id": "84882b22",
   "metadata": {},
   "source": [
    "Cell 2: Load data and define the environment"
   ]
  },
  {
   "cell_type": "code",
   "execution_count": null,
   "id": "303f496b",
   "metadata": {
    "vscode": {
     "languageId": "plaintext"
    }
   },
   "outputs": [],
   "source": [
    "import gym\n",
    "from gym import spaces\n",
    "import pandas as pd\n",
    "import numpy as np\n",
    "\n",
    "# Load historical sentiment + price data\n",
    "df = pd.read_csv('/content/merged_sentiment_price.csv')\n",
    "df['date'] = pd.to_datetime(df['date'])\n",
    "df = df.sort_values('date')\n",
    "df['price_return'] = df['close'].pct_change()\n",
    "df['sentiment_smooth'] = df['sentiment'].rolling(3).mean()\n",
    "df = df.dropna().reset_index(drop=True)\n",
    "\n",
    "state_features = ['close', 'price_return', 'sentiment', 'sentiment_smooth']\n",
    "\n",
    "class TradingEnv(gym.Env):\n",
    "    def __init__(self, df):\n",
    "        super().__init__()\n",
    "        self.df = df\n",
    "        self.current_step = 0\n",
    "        self.max_steps = len(df) - 1\n",
    "        self.action_space = spaces.Discrete(3)  # 0=Hold, 1=Buy, 2=Sell\n",
    "        self.observation_space = spaces.Box(\n",
    "            low=-np.inf,\n",
    "            high=np.inf,\n",
    "            shape=(len(state_features),),\n",
    "            dtype=np.float32\n",
    "        )\n",
    "        self.position = 0  # 0=flat, 1=long, -1=short\n",
    "        self.entry_price = 0\n",
    "\n",
    "    def reset(self):\n",
    "        self.current_step = 0\n",
    "        self.position = 0\n",
    "        self.entry_price = 0\n",
    "        return self._get_obs()\n",
    "\n",
    "    def _get_obs(self):\n",
    "        return self.df.loc[self.current_step, state_features].values.astype(np.float32)\n",
    "\n",
    "    def step(self, action):\n",
    "        done = False\n",
    "        reward = 0\n",
    "        price = self.df.loc[self.current_step, 'close']\n",
    "\n",
    "        if action == 1:  # Buy\n",
    "            if self.position == 0:\n",
    "                self.position = 1\n",
    "                self.entry_price = price\n",
    "        elif action == 2:  # Sell\n",
    "            if self.position == 0:\n",
    "                self.position = -1\n",
    "                self.entry_price = price\n",
    "        elif action == 0:  # Hold\n",
    "            pass\n",
    "\n",
    "        # End of data or final step\n",
    "        self.current_step += 1\n",
    "        if self.current_step >= self.max_steps:\n",
    "            done = True\n",
    "            if self.position != 0:\n",
    "                price_change = (price - self.entry_price) / self.entry_price\n",
    "                reward = price_change if self.position == 1 else -price_change\n",
    "\n",
    "        return self._get_obs(), reward, done, {}\n",
    "\n",
    "    def render(self, mode='human'):\n",
    "        pass  # Optional\n"
   ]
  },
  {
   "cell_type": "markdown",
   "id": "0d80f0c6",
   "metadata": {},
   "source": [
    "Cell 3: Register and train PPO agent"
   ]
  },
  {
   "cell_type": "code",
   "execution_count": null,
   "id": "c6ad869a",
   "metadata": {
    "vscode": {
     "languageId": "plaintext"
    }
   },
   "outputs": [],
   "source": [
    "from stable_baselines3 import PPO\n",
    "from stable_baselines3.common.env_checker import check_env\n",
    "\n",
    "env = TradingEnv(df)\n",
    "check_env(env)  # Check for Gym compliance\n",
    "\n",
    "model = PPO(\"MlpPolicy\", env, verbose=1)\n",
    "model.learn(total_timesteps=10000)\n"
   ]
  },
  {
   "cell_type": "markdown",
   "id": "a6320d8c",
   "metadata": {},
   "source": [
    "Cell 4: Evaluate the policy"
   ]
  },
  {
   "cell_type": "code",
   "execution_count": null,
   "id": "86742e57",
   "metadata": {
    "vscode": {
     "languageId": "plaintext"
    }
   },
   "outputs": [],
   "source": [
    "obs = env.reset()\n",
    "rewards = []\n",
    "for _ in range(len(df) - 1):\n",
    "    action, _states = model.predict(obs)\n",
    "    obs, reward, done, _ = env.step(action)\n",
    "    rewards.append(reward)\n",
    "    if done:\n",
    "        break\n",
    "\n",
    "import matplotlib.pyplot as plt\n",
    "plt.plot(np.cumsum(rewards))\n",
    "plt.title(\"Cumulative Reward Over Time\")\n",
    "plt.xlabel(\"Step\")\n",
    "plt.ylabel(\"Cumulative Reward\")\n",
    "plt.show()\n"
   ]
  },
  {
   "cell_type": "markdown",
   "id": "46749d83",
   "metadata": {},
   "source": [
    "Cell 5: Save the agent"
   ]
  },
  {
   "cell_type": "code",
   "execution_count": null,
   "id": "c15fd8d6",
   "metadata": {
    "vscode": {
     "languageId": "plaintext"
    }
   },
   "outputs": [],
   "source": [
    "model.save(\"ppo_trading_agent\")\n",
    "print(\"✅ PPO model saved.\")\n"
   ]
  },
  {
   "cell_type": "markdown",
   "id": "565aa8ef",
   "metadata": {},
   "source": [
    "Cell 6: Download"
   ]
  },
  {
   "cell_type": "code",
   "execution_count": null,
   "id": "63990095",
   "metadata": {
    "vscode": {
     "languageId": "plaintext"
    }
   },
   "outputs": [],
   "source": [
    "from google.colab import files\n",
    "files.download(\"ppo_trading_agent.zip\")\n"
   ]
  }
 ],
 "metadata": {
  "language_info": {
   "name": "python"
  }
 },
 "nbformat": 4,
 "nbformat_minor": 5
}
